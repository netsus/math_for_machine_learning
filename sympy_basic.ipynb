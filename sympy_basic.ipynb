{
 "cells": [
  {
   "cell_type": "markdown",
   "id": "cb22dce8",
   "metadata": {},
   "source": [
    "## 전체 코드"
   ]
  },
  {
   "cell_type": "code",
   "execution_count": null,
   "id": "c790af7a",
   "metadata": {},
   "outputs": [],
   "source": [
    "import sympy as sp\n",
    "from sympy.abc import x, y\n",
    "## 미분\n",
    "exp = x**2 +2*x + 3\n",
    "sp.diff(exp, x)\n",
    "\n",
    "## 사용된 변수와 도메인과 함께 표시\n",
    "sp.poly(sp.diff(exp, x)) # Z:정수, Q:유리수, R:실수, C:복소수\n",
    "\n",
    "# x로 2번 미분\n",
    "sp.diff(exp, x, x) \n",
    "\n",
    "## dx/dy or dy/dx\n",
    "sik=x**2 + y**2 +2*x + 3\n",
    "sp.idiff(sik, x, y) # dx/dy\n",
    "sp.idiff(sik, y, x) # dy/dx\n",
    "\n",
    "## 적분\n",
    "sik=sp.log(x**2+sp.E**x) # 수식 정의\n",
    "sp.integrate(sik, x) # 적분\n",
    "\n",
    "### 적분이 안되는 경우\n",
    "sp.integrate(sp.cos(x**3+2), x)"
   ]
  },
  {
   "cell_type": "markdown",
   "id": "dedc14d9",
   "metadata": {},
   "source": [
    "## 설치"
   ]
  },
  {
   "cell_type": "code",
   "execution_count": 3,
   "id": "a985cef2",
   "metadata": {
    "ExecuteTime": {
     "end_time": "2022-07-13T11:55:01.400939Z",
     "start_time": "2022-07-13T11:54:54.766974Z"
    }
   },
   "outputs": [
    {
     "name": "stdout",
     "output_type": "stream",
     "text": [
      "Collecting sympy\n",
      "  Downloading sympy-1.10.1-py3-none-any.whl (6.4 MB)\n",
      "\u001b[2K     \u001b[38;2;114;156;31m━━━━━━━━━━━━━━━━━━━━━━━━━━━━━━━━━━━━━━━━\u001b[0m \u001b[32m6.4/6.4 MB\u001b[0m \u001b[31m13.0 MB/s\u001b[0m eta \u001b[36m0:00:00\u001b[0mm eta \u001b[36m0:00:01\u001b[0m[36m0:00:01\u001b[0m\n",
      "\u001b[?25hCollecting mpmath>=0.19\n",
      "  Downloading mpmath-1.2.1-py3-none-any.whl (532 kB)\n",
      "\u001b[2K     \u001b[38;2;114;156;31m━━━━━━━━━━━━━━━━━━━━━━━━━━━━━━━━━━━━━━\u001b[0m \u001b[32m532.6/532.6 kB\u001b[0m \u001b[31m17.0 MB/s\u001b[0m eta \u001b[36m0:00:00\u001b[0m\n",
      "\u001b[?25hInstalling collected packages: mpmath, sympy\n",
      "Successfully installed mpmath-1.2.1 sympy-1.10.1\n"
     ]
    }
   ],
   "source": [
    "!pip install sympy"
   ]
  },
  {
   "cell_type": "markdown",
   "id": "17d33f8c",
   "metadata": {},
   "source": [
    "## 라이브러리 import"
   ]
  },
  {
   "cell_type": "code",
   "execution_count": 66,
   "id": "b911a991",
   "metadata": {
    "ExecuteTime": {
     "end_time": "2022-07-14T16:06:08.146394Z",
     "start_time": "2022-07-14T16:06:08.130607Z"
    }
   },
   "outputs": [
    {
     "data": {
      "text/latex": [
       "$\\displaystyle x^{2} + 2 x + 3$"
      ],
      "text/plain": [
       "x**2 + 2*x + 3"
      ]
     },
     "execution_count": 66,
     "metadata": {},
     "output_type": "execute_result"
    }
   ],
   "source": [
    "import sympy as sp\n",
    "from sympy.abc import x, y\n",
    "exp = x**2 +2*x + 3\n",
    "exp"
   ]
  },
  {
   "cell_type": "markdown",
   "id": "0d5c909e",
   "metadata": {},
   "source": [
    "## 미분"
   ]
  },
  {
   "cell_type": "code",
   "execution_count": 67,
   "id": "c6fa3a62",
   "metadata": {
    "ExecuteTime": {
     "end_time": "2022-07-14T16:06:37.701083Z",
     "start_time": "2022-07-14T16:06:37.684650Z"
    }
   },
   "outputs": [
    {
     "data": {
      "text/latex": [
       "$\\displaystyle 2 x + 2$"
      ],
      "text/plain": [
       "2*x + 2"
      ]
     },
     "execution_count": 67,
     "metadata": {},
     "output_type": "execute_result"
    }
   ],
   "source": [
    "# 미분\n",
    "sp.diff(exp, x)"
   ]
  },
  {
   "cell_type": "markdown",
   "id": "e30b2914",
   "metadata": {},
   "source": [
    "## 사용된 변수와 도메인과 함께 표시\n",
    "Z: 정수, Q: 유리수, R: 실수, C: 복소수)"
   ]
  },
  {
   "cell_type": "code",
   "execution_count": 26,
   "id": "3d36fb8e",
   "metadata": {
    "ExecuteTime": {
     "end_time": "2022-07-13T13:32:24.774416Z",
     "start_time": "2022-07-13T13:32:24.762243Z"
    }
   },
   "outputs": [
    {
     "data": {
      "text/latex": [
       "$\\displaystyle \\operatorname{Poly}{\\left( 2 x + 2, x, domain=\\mathbb{Z} \\right)}$"
      ],
      "text/plain": [
       "Poly(2*x + 2, x, domain='ZZ')"
      ]
     },
     "execution_count": 26,
     "metadata": {},
     "output_type": "execute_result"
    }
   ],
   "source": [
    "# 미분 + 보기좋게\n",
    "sp.poly(sp.diff(exp, x))"
   ]
  },
  {
   "cell_type": "markdown",
   "id": "f5213f0c",
   "metadata": {},
   "source": [
    "## 여러번 미분"
   ]
  },
  {
   "cell_type": "code",
   "execution_count": 12,
   "id": "13177cf5",
   "metadata": {
    "ExecuteTime": {
     "end_time": "2022-07-13T13:29:50.944302Z",
     "start_time": "2022-07-13T13:29:50.934075Z"
    }
   },
   "outputs": [
    {
     "data": {
      "text/latex": [
       "$\\displaystyle 2$"
      ],
      "text/plain": [
       "2"
      ]
     },
     "execution_count": 12,
     "metadata": {},
     "output_type": "execute_result"
    }
   ],
   "source": [
    "sp.diff(exp, x, x) # x로 2번 미분"
   ]
  },
  {
   "cell_type": "markdown",
   "id": "f09de5fa",
   "metadata": {},
   "source": [
    "## dy/dx"
   ]
  },
  {
   "cell_type": "code",
   "execution_count": 52,
   "id": "214f2bc8",
   "metadata": {
    "ExecuteTime": {
     "end_time": "2022-07-13T13:44:53.883524Z",
     "start_time": "2022-07-13T13:44:53.871904Z"
    }
   },
   "outputs": [
    {
     "data": {
      "text/latex": [
       "$\\displaystyle x^{2} + 2 x + y^{2} + 3$"
      ],
      "text/plain": [
       "x**2 + 2*x + y**2 + 3"
      ]
     },
     "execution_count": 52,
     "metadata": {},
     "output_type": "execute_result"
    }
   ],
   "source": [
    "sik=x**2 + y**2 +2*x + 3\n",
    "sik"
   ]
  },
  {
   "cell_type": "code",
   "execution_count": 71,
   "id": "a44bd115",
   "metadata": {
    "ExecuteTime": {
     "end_time": "2022-07-14T16:14:39.521474Z",
     "start_time": "2022-07-14T16:14:39.498702Z"
    }
   },
   "outputs": [
    {
     "data": {
      "text/latex": [
       "$\\displaystyle \\frac{- x - 1}{y}$"
      ],
      "text/plain": [
       "(-x - 1)/y"
      ]
     },
     "execution_count": 71,
     "metadata": {},
     "output_type": "execute_result"
    }
   ],
   "source": [
    "# dy/dx를 해주는 메소드\n",
    "sp.idiff(sik, y, x)"
   ]
  },
  {
   "cell_type": "code",
   "execution_count": 70,
   "id": "b11a3539",
   "metadata": {
    "ExecuteTime": {
     "end_time": "2022-07-14T16:14:38.004035Z",
     "start_time": "2022-07-14T16:14:37.979866Z"
    }
   },
   "outputs": [
    {
     "data": {
      "text/latex": [
       "$\\displaystyle - \\frac{y}{x + 1}$"
      ],
      "text/plain": [
       "-y/(x + 1)"
      ]
     },
     "execution_count": 70,
     "metadata": {},
     "output_type": "execute_result"
    }
   ],
   "source": [
    "# dx/dy를 해주는 메소드\n",
    "sp.idiff(sik, x, y)"
   ]
  },
  {
   "cell_type": "markdown",
   "id": "b304c32f",
   "metadata": {},
   "source": [
    "## 적분"
   ]
  },
  {
   "cell_type": "code",
   "execution_count": 29,
   "id": "be536bed",
   "metadata": {
    "ExecuteTime": {
     "end_time": "2022-07-13T13:33:09.226183Z",
     "start_time": "2022-07-13T13:33:09.212155Z"
    }
   },
   "outputs": [
    {
     "data": {
      "text/latex": [
       "$\\displaystyle \\log{\\left(x^{2} + e^{x} \\right)}$"
      ],
      "text/plain": [
       "log(x**2 + exp(x))"
      ]
     },
     "execution_count": 29,
     "metadata": {},
     "output_type": "execute_result"
    }
   ],
   "source": [
    "sik=sp.log(x**2+sp.E**x)\n",
    "sik"
   ]
  },
  {
   "cell_type": "code",
   "execution_count": 30,
   "id": "5e0ea286",
   "metadata": {
    "ExecuteTime": {
     "end_time": "2022-07-13T13:33:12.810858Z",
     "start_time": "2022-07-13T13:33:12.332674Z"
    }
   },
   "outputs": [
    {
     "data": {
      "text/latex": [
       "$\\displaystyle x \\log{\\left(x^{2} + e^{x} \\right)} - \\int \\frac{2 x^{2}}{x^{2} + e^{x}}\\, dx - \\int \\frac{x e^{x}}{x^{2} + e^{x}}\\, dx$"
      ],
      "text/plain": [
       "x*log(x**2 + exp(x)) - Integral(2*x**2/(x**2 + exp(x)), x) - Integral(x*exp(x)/(x**2 + exp(x)), x)"
      ]
     },
     "execution_count": 30,
     "metadata": {},
     "output_type": "execute_result"
    }
   ],
   "source": [
    "sp.integrate(sik, x) # 적분"
   ]
  },
  {
   "cell_type": "markdown",
   "id": "a359593b",
   "metadata": {},
   "source": [
    "### 적분이 안되는 경우"
   ]
  },
  {
   "cell_type": "code",
   "execution_count": 23,
   "id": "cd1d0a58",
   "metadata": {
    "ExecuteTime": {
     "end_time": "2022-07-13T13:31:37.555293Z",
     "start_time": "2022-07-13T13:31:37.446216Z"
    }
   },
   "outputs": [
    {
     "data": {
      "text/latex": [
       "$\\displaystyle \\int \\cos{\\left(x^{3} + 2 \\right)}\\, dx$"
      ],
      "text/plain": [
       "Integral(cos(x**3 + 2), x)"
      ]
     },
     "execution_count": 23,
     "metadata": {},
     "output_type": "execute_result"
    }
   ],
   "source": [
    "sp.integrate(sp.cos(x**3+2), x) # 적분 안되는 경우"
   ]
  }
 ],
 "metadata": {
  "kernelspec": {
   "display_name": "Python 3",
   "language": "python",
   "name": "python3"
  },
  "language_info": {
   "codemirror_mode": {
    "name": "ipython",
    "version": 3
   },
   "file_extension": ".py",
   "mimetype": "text/x-python",
   "name": "python",
   "nbconvert_exporter": "python",
   "pygments_lexer": "ipython3",
   "version": "3.8.12"
  },
  "toc": {
   "base_numbering": 1,
   "nav_menu": {},
   "number_sections": true,
   "sideBar": true,
   "skip_h1_title": false,
   "title_cell": "Table of Contents",
   "title_sidebar": "Contents",
   "toc_cell": false,
   "toc_position": {},
   "toc_section_display": true,
   "toc_window_display": true
  }
 },
 "nbformat": 4,
 "nbformat_minor": 5
}
